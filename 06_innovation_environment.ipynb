{
 "cells": [
  {
   "cell_type": "markdown",
   "metadata": {},
   "source": [
    "# 创新环境分析"
   ]
  },
  {
   "cell_type": "code",
   "execution_count": 15,
   "metadata": {},
   "outputs": [],
   "source": [
    "import matplotlib.pyplot as plt\n",
    "plt.rc('font', size=16)                    # controls default text sizes\n",
    "plt.rc('axes', titlesize=16)               # fontsize of the axes title\n",
    "plt.rc('axes', labelsize=16)               # fontsize of the x and y labels\n",
    "plt.rc('xtick', labelsize=14)              # fontsize of the tick labels\n",
    "plt.rc('ytick', labelsize=14)              # fontsize of the tick labels\n",
    "plt.rc('legend', fontsize=14)              # legend fontsize\n",
    "plt.rc('figure', titlesize=18)             # fontsize of the figure title\n",
    "plt.rc('lines', linewidth=0.8)             # line width\n",
    "plt.rc('axes', labelpad=5)                 # fontsize of the x and y labels\n",
    "plt.rc('font', family='Source Serif Pro')  # font family of normal text\n",
    "plt.rc('mathtext', fontset='cm')           # font family of math equation "
   ]
  },
  {
   "cell_type": "markdown",
   "metadata": {},
   "source": [
    "## RPA，RIL，RCL等参数的计算"
   ]
  },
  {
   "cell_type": "code",
   "execution_count": 19,
   "metadata": {},
   "outputs": [],
   "source": [
    "import pandas as pd\n",
    "from math import tanh, log\n",
    "\n",
    "def count_developers(df):\n",
    "    \"\"\" Count the number of developers in df\n",
    "    \"\"\"\n",
    "    df['index'] = range(df.shape[0])\n",
    "    df = df.set_index('index')\n",
    "    developers = []\n",
    "    for i in range(df.shape[0]):\n",
    "        developers += str(df.loc[i, 'Ultimate Parent']).split('|')\n",
    "    developers = list(set(developers))\n",
    "    return len(developers)\n",
    "\n",
    "\n",
    "def get_rpa(df_ij,df_ia,df_aj,df_aa):\n",
    "    \"\"\" Calculate RPA, RIL and RCL\n",
    "\n",
    "    Prams:\n",
    "        df_ij: country i product j\n",
    "        df_ia: country i all products\n",
    "        df_aj: all countries product j\n",
    "        df_aa: all countries all products\n",
    "\n",
    "    Returns:\n",
    "        RPA, RIL, RCL\n",
    "    \"\"\"\n",
    "    p_ij = df_ij.shape[0]\n",
    "    p_ia = df_ia.shape[0]\n",
    "    p_aj = df_aj.shape[0]\n",
    "    p_aa = df_aa.shape[0]\n",
    "    a_ij = count_developers(df_ij)\n",
    "    a_ia = count_developers(df_ia)\n",
    "    a_aj = count_developers(df_aj)\n",
    "    a_aa = count_developers(df_aa)\n",
    "\n",
    "    try:\n",
    "        rpa = tanh(log((p_ij/p_ia)/(p_aj/p_aa)))\n",
    "    except:\n",
    "        rpa = -1   \n",
    "    \n",
    "    try:\n",
    "        ril = tanh(log((a_ij/a_ia)/(a_aj/a_aa)))\n",
    "    except:\n",
    "        ril = -1\n",
    "\n",
    "    try:\n",
    "        rcl = tanh(log(((p_ij/a_ij)/(p_ia/a_ia))/((p_aj/a_aj)/(p_aa/a_aa))))\n",
    "    except:\n",
    "        rcl = -1  \n",
    "\n",
    "    return rpa, ril, rcl"
   ]
  },
  {
   "cell_type": "markdown",
   "metadata": {},
   "source": [
    "## 读取数据"
   ]
  },
  {
   "cell_type": "code",
   "execution_count": 20,
   "metadata": {},
   "outputs": [
    {
     "data": {
      "text/plain": [
       "Index(['Title', 'Assignee', 'Number of Backward Citations',\n",
       "       'Number of Forward Citations', 'Est. Expiration Date', 'Status',\n",
       "       'Project: Labels', 'All IP Classifications', 'Country',\n",
       "       'Publication Number', 'All CP Classifications', 'Normalized Assignee',\n",
       "       'Original Assignee', 'Ultimate Parent', 'Publication Date',\n",
       "       'Application Publication Date', 'Inventors', 'PatentStrength',\n",
       "       'Priority Date', 'Grant Date', 'File Date', 'Year', 'EYear', 'origin',\n",
       "       'fixed', 'floating', 'gravity-based', 'jacket', 'monopile', 'tripod',\n",
       "       'tripile', 'suction bucket', 'tlp', 'spar', 'semi-submersible',\n",
       "       'Region'],\n",
       "      dtype='object')"
      ]
     },
     "execution_count": 20,
     "metadata": {},
     "output_type": "execute_result"
    }
   ],
   "source": [
    "df = pd.read_csv('data/data_processed.csv')\n",
    "df.columns"
   ]
  },
  {
   "cell_type": "code",
   "execution_count": 3,
   "metadata": {},
   "outputs": [],
   "source": [
    "import numpy as np\n",
    "\n",
    "df = df[np.logical_or(df['fixed']==True,df['floating']==True)]\n",
    "df['index']=range(df.shape[0])\n",
    "df = df.set_index('index')"
   ]
  },
  {
   "cell_type": "markdown",
   "metadata": {},
   "source": [
    "## 定义技术领域"
   ]
  },
  {
   "cell_type": "code",
   "execution_count": 4,
   "metadata": {},
   "outputs": [],
   "source": [
    "fields = ['gravity-based', 'jacket', 'monopile', 'tripod',\n",
    "          'tripile', 'suction bucket', 'tlp', 'spar', 'semi-submersible']"
   ]
  },
  {
   "cell_type": "markdown",
   "metadata": {},
   "source": [
    "## 环境演变历程分析"
   ]
  },
  {
   "cell_type": "code",
   "execution_count": 11,
   "metadata": {},
   "outputs": [],
   "source": [
    "from itertools import cycle\n",
    "import numpy as np\n",
    "pd.options.mode.chained_assignment = None\n",
    "\n",
    "def draw_rpa(df1, df2, field, y1, y2, width):\n",
    "    \n",
    "    # calculate rpa, ril and rcl\n",
    "    df_ = pd.DataFrame()\n",
    "    for y in range(y1, y2):\n",
    "        df_aa = df1[(df1['Year'] <= y)&(df1['Year'] > y-width )]\n",
    "        df_ia = df2[(df2['Year'] <= y)&(df2['Year'] > y-width )]\n",
    "        df_aj = df_aa[df_aa[field] == True]\n",
    "        df_ij = df_ia[df_ia[field] == True]\n",
    "        rpa, ril, rcl = get_rpa(df_ij, df_ia, df_aj, df_aa)\n",
    "        df_ = df_.append({'Year': y,\n",
    "                        'RPA': rpa,\n",
    "                        'RIL': ril,\n",
    "                        'RCL': rcl}, ignore_index=True)\n",
    "   \n",
    "    # draw lines\n",
    "    lines = [\"--\", \"v:\", \"o-\", \":\", '--', 'D-', 'v-', 'x-', '*-']\n",
    "    colors = [ 'r', 'g', 'b', 'y', 'purple', 'peru']\n",
    "    linecycler = cycle(lines)\n",
    "    colorcycler = cycle(colors)\n",
    "    \n",
    "    plt.figure(figsize=(6, 3))\n",
    "    for _ in ['RPA', 'RIL', 'RCL']:\n",
    "        plt.plot(df_['Year'], df_[_], next(linecycler),\n",
    "                 color=next(colorcycler), label=_)\n",
    "    plt.axhline(0,color='black',linestyle='-',linewidth=0.5)\n",
    "    plt.legend(ncol=3,frameon=False)\n",
    "    plt.xlabel('Year')\n",
    "    plt.ylabel('')\n",
    "    plt.xticks(np.arange(y1, y2, 1.0))\n",
    "    plt.subplots_adjust(left=0.1, right=0.95, top=0.95, bottom=0.2)\n",
    "    #plt.show()"
   ]
  },
  {
   "cell_type": "markdown",
   "metadata": {},
   "source": [
    "### 算例"
   ]
  },
  {
   "cell_type": "code",
   "execution_count": 12,
   "metadata": {},
   "outputs": [
    {
     "name": "stderr",
     "output_type": "stream",
     "text": [
      "/Users/haiming/opt/anaconda3/lib/python3.7/site-packages/ipykernel_launcher.py:40: RuntimeWarning: More than 20 figures have been opened. Figures created through the pyplot interface (`matplotlib.pyplot.figure`) are retained until explicitly closed and may consume too much memory. (To control this warning, see the rcParam `figure.max_open_warning`).\n",
      "/Users/haiming/opt/anaconda3/lib/python3.7/site-packages/ipykernel_launcher.py:40: RuntimeWarning: More than 20 figures have been opened. Figures created through the pyplot interface (`matplotlib.pyplot.figure`) are retained until explicitly closed and may consume too much memory. (To control this warning, see the rcParam `figure.max_open_warning`).\n",
      "/Users/haiming/opt/anaconda3/lib/python3.7/site-packages/ipykernel_launcher.py:40: RuntimeWarning: More than 20 figures have been opened. Figures created through the pyplot interface (`matplotlib.pyplot.figure`) are retained until explicitly closed and may consume too much memory. (To control this warning, see the rcParam `figure.max_open_warning`).\n",
      "/Users/haiming/opt/anaconda3/lib/python3.7/site-packages/ipykernel_launcher.py:40: RuntimeWarning: More than 20 figures have been opened. Figures created through the pyplot interface (`matplotlib.pyplot.figure`) are retained until explicitly closed and may consume too much memory. (To control this warning, see the rcParam `figure.max_open_warning`).\n",
      "/Users/haiming/opt/anaconda3/lib/python3.7/site-packages/ipykernel_launcher.py:40: RuntimeWarning: More than 20 figures have been opened. Figures created through the pyplot interface (`matplotlib.pyplot.figure`) are retained until explicitly closed and may consume too much memory. (To control this warning, see the rcParam `figure.max_open_warning`).\n",
      "/Users/haiming/opt/anaconda3/lib/python3.7/site-packages/ipykernel_launcher.py:40: RuntimeWarning: More than 20 figures have been opened. Figures created through the pyplot interface (`matplotlib.pyplot.figure`) are retained until explicitly closed and may consume too much memory. (To control this warning, see the rcParam `figure.max_open_warning`).\n",
      "/Users/haiming/opt/anaconda3/lib/python3.7/site-packages/ipykernel_launcher.py:40: RuntimeWarning: More than 20 figures have been opened. Figures created through the pyplot interface (`matplotlib.pyplot.figure`) are retained until explicitly closed and may consume too much memory. (To control this warning, see the rcParam `figure.max_open_warning`).\n"
     ]
    },
    {
     "data": {
      "text/plain": [
       "<Figure size 432x216 with 0 Axes>"
      ]
     },
     "metadata": {},
     "output_type": "display_data"
    },
    {
     "data": {
      "text/plain": [
       "<Figure size 432x216 with 0 Axes>"
      ]
     },
     "metadata": {},
     "output_type": "display_data"
    },
    {
     "data": {
      "text/plain": [
       "<Figure size 432x216 with 0 Axes>"
      ]
     },
     "metadata": {},
     "output_type": "display_data"
    },
    {
     "data": {
      "text/plain": [
       "<Figure size 432x216 with 0 Axes>"
      ]
     },
     "metadata": {},
     "output_type": "display_data"
    },
    {
     "data": {
      "text/plain": [
       "<Figure size 432x216 with 0 Axes>"
      ]
     },
     "metadata": {},
     "output_type": "display_data"
    },
    {
     "data": {
      "text/plain": [
       "<Figure size 432x216 with 0 Axes>"
      ]
     },
     "metadata": {},
     "output_type": "display_data"
    },
    {
     "data": {
      "text/plain": [
       "<Figure size 432x216 with 0 Axes>"
      ]
     },
     "metadata": {},
     "output_type": "display_data"
    },
    {
     "data": {
      "text/plain": [
       "<Figure size 432x216 with 0 Axes>"
      ]
     },
     "metadata": {},
     "output_type": "display_data"
    },
    {
     "data": {
      "text/plain": [
       "<Figure size 432x216 with 0 Axes>"
      ]
     },
     "metadata": {},
     "output_type": "display_data"
    },
    {
     "data": {
      "text/plain": [
       "<Figure size 432x216 with 0 Axes>"
      ]
     },
     "metadata": {},
     "output_type": "display_data"
    },
    {
     "data": {
      "text/plain": [
       "<Figure size 432x216 with 0 Axes>"
      ]
     },
     "metadata": {},
     "output_type": "display_data"
    },
    {
     "data": {
      "text/plain": [
       "<Figure size 432x216 with 0 Axes>"
      ]
     },
     "metadata": {},
     "output_type": "display_data"
    },
    {
     "data": {
      "text/plain": [
       "<Figure size 432x216 with 0 Axes>"
      ]
     },
     "metadata": {},
     "output_type": "display_data"
    },
    {
     "data": {
      "text/plain": [
       "<Figure size 432x216 with 0 Axes>"
      ]
     },
     "metadata": {},
     "output_type": "display_data"
    },
    {
     "data": {
      "text/plain": [
       "<Figure size 432x216 with 0 Axes>"
      ]
     },
     "metadata": {},
     "output_type": "display_data"
    },
    {
     "data": {
      "text/plain": [
       "<Figure size 432x216 with 0 Axes>"
      ]
     },
     "metadata": {},
     "output_type": "display_data"
    },
    {
     "data": {
      "text/plain": [
       "<Figure size 432x216 with 0 Axes>"
      ]
     },
     "metadata": {},
     "output_type": "display_data"
    },
    {
     "data": {
      "text/plain": [
       "<Figure size 432x216 with 0 Axes>"
      ]
     },
     "metadata": {},
     "output_type": "display_data"
    },
    {
     "data": {
      "text/plain": [
       "<Figure size 432x216 with 0 Axes>"
      ]
     },
     "metadata": {},
     "output_type": "display_data"
    },
    {
     "data": {
      "text/plain": [
       "<Figure size 432x216 with 0 Axes>"
      ]
     },
     "metadata": {},
     "output_type": "display_data"
    },
    {
     "data": {
      "text/plain": [
       "<Figure size 432x216 with 0 Axes>"
      ]
     },
     "metadata": {},
     "output_type": "display_data"
    },
    {
     "data": {
      "text/plain": [
       "<Figure size 432x216 with 0 Axes>"
      ]
     },
     "metadata": {},
     "output_type": "display_data"
    },
    {
     "data": {
      "text/plain": [
       "<Figure size 432x216 with 0 Axes>"
      ]
     },
     "metadata": {},
     "output_type": "display_data"
    },
    {
     "data": {
      "text/plain": [
       "<Figure size 432x216 with 0 Axes>"
      ]
     },
     "metadata": {},
     "output_type": "display_data"
    },
    {
     "data": {
      "text/plain": [
       "<Figure size 432x216 with 0 Axes>"
      ]
     },
     "metadata": {},
     "output_type": "display_data"
    },
    {
     "data": {
      "text/plain": [
       "<Figure size 432x216 with 0 Axes>"
      ]
     },
     "metadata": {},
     "output_type": "display_data"
    },
    {
     "data": {
      "text/plain": [
       "<Figure size 432x216 with 0 Axes>"
      ]
     },
     "metadata": {},
     "output_type": "display_data"
    }
   ],
   "source": [
    "for field in fields:\n",
    "    for country in ['CN','US']:\n",
    "        draw_rpa(df, df[df['Country']==country],field,2010,2020,3)\n",
    "        plt.savefig('evolution/evolution_%s_%s.pdf'%(country,field))\n",
    "        plt.clf()\n",
    "    \n",
    "    draw_rpa(df, df[df['Region']=='Europe'],field,2010,2020,3)\n",
    "    plt.savefig('evolution/evolution_EU_%s.pdf'%(field))\n",
    "    plt.clf()"
   ]
  },
  {
   "cell_type": "markdown",
   "metadata": {},
   "source": [
    "## SWOC分析"
   ]
  },
  {
   "cell_type": "code",
   "execution_count": 13,
   "metadata": {},
   "outputs": [],
   "source": [
    "fields = ['gravity-based','jacket','monopile','tripod','tripile','suction bucket','tlp','spar','semi-submersible']\n",
    "labels = {'gravity-based':'grav.',\n",
    "         'jacket':'jack.',\n",
    "         'monopile':'mono.',\n",
    "         'tripod':'tripod',\n",
    "         'tripile':'tripile',\n",
    "         'suction bucket':'suct.',\n",
    "         'tlp':'tlp',\n",
    "         'spar':'spar',\n",
    "         'semi-submersible':'semi.'}"
   ]
  },
  {
   "cell_type": "code",
   "execution_count": 22,
   "metadata": {},
   "outputs": [],
   "source": [
    "fields = ['gravity-based','jacket','monopile','tripod','tripile','suction bucket','tlp','spar','semi-submersible']\n",
    "labels = {'gravity-based':'grav',\n",
    "         'jacket':'jack',\n",
    "         'monopile':'mono',\n",
    "         'tripod':'tripod',\n",
    "         'tripile':'tripile',\n",
    "         'suction bucket':'suct',\n",
    "         'tlp':'tlp',\n",
    "         'spar':'spar',\n",
    "         'semi-submersible':'semi'}"
   ]
  },
  {
   "cell_type": "code",
   "execution_count": 16,
   "metadata": {},
   "outputs": [],
   "source": [
    "import matplotlib.pyplot as plt\n",
    "from itertools import cycle\n",
    "import numpy as np\n",
    "from adjustText import adjust_text\n",
    "pd.options.mode.chained_assignment = None\n",
    "\n",
    "def swoc(df1, df2):\n",
    "    \n",
    "    # calculate rpa, ril and rcl\n",
    "    df_ = pd.DataFrame()\n",
    "    for field in fields:\n",
    "        df_aa = df1\n",
    "        df_ia = df2\n",
    "        df_aj = df_aa[df_aa[field] == True]\n",
    "        df_ij = df_ia[df_ia[field] == True]\n",
    "        rpa, ril, rcl = get_rpa(df_ij, df_ia, df_aj, df_aa)\n",
    "        if rpa != -1:\n",
    "            df_ = df_.append({'Field': field,\n",
    "                            'RPA': rpa,\n",
    "                            'RIL': ril,\n",
    "                            'RCL': rcl}, ignore_index=True)\n",
    "\n",
    "    print(df_)\n",
    "    \n",
    "    plt.rcParams['font.family'] = 'Source Serif Pro'\n",
    "    plt.rcParams['font.size'] = 14\n",
    "    plt.rcParams['figure.dpi'] = 96\n",
    "    plt.rcParams['lines.linewidth'] = 1\n",
    "    plt.rcParams['lines.markersize'] = 4\n",
    "    plt.rcParams['xtick.labelsize'] = 14\n",
    "    plt.rcParams['ytick.labelsize'] = 14\n",
    "    plt.rcParams['axes.labelpad'] = 5\n",
    "    plt.rcParams['figure.figsize'] = [4.3, 4]    \n",
    "    \n",
    "    # draw scatter\n",
    "\n",
    "    points = []\n",
    "    \n",
    "    for i in range(df_.shape[0]):\n",
    "        plt.scatter(df_.loc[i,'RIL'],df_.loc[i,'RCL'])\n",
    "        points.append(plt.text(df_.loc[i,'RIL'],df_.loc[i,'RCL'],labels[df_.loc[i,'Field']]))\n",
    "        #points.append(plt.text(df_.loc[i,'RIL'],df_.loc[i,'RCL'],df_.loc[i,'Field']))\n",
    "    \n",
    "    # guide lines\n",
    "    plt.axhline(0,color='r',linestyle='-',linewidth=0.5)\n",
    "    plt.axvline(0,color='r',linestyle='-',linewidth=0.5)\n",
    "    \n",
    "    # chart range\n",
    "    #xlim = max(abs(df_['RIL'].max()),abs(df_['RIL'].min()))+0.04 \n",
    "    #ylim = max(abs(df_['RCL'].max()),abs(df_['RCL'].min()))+0.04\n",
    "    #lim = max(xlim,ylim)\n",
    "    #plt.xlim(-lim,lim)\n",
    "    #plt.ylim(-lim,lim)\n",
    "    \n",
    "    plt.xlim(-1,1)\n",
    "    plt.ylim(-1,1)\n",
    "    plt.xticks(np.arange(-1, 1.1, 0.5))\n",
    "    plt.yticks(np.arange(-0.5, 1.1, 0.5))\n",
    "    \n",
    "    # labels\n",
    "    plt.xlabel('RIL')\n",
    "    plt.ylabel('RCL')\n",
    "\n",
    "    # chart size\n",
    "    plt.subplots_adjust(left=0.21, right=0.95, top=0.95, bottom=0.15)\n",
    "    \n",
    "    # avoid overlapping\n",
    "    adjust_text(points,only_move={'points':'x'})\n",
    "    #adjust_text(points)\n",
    "    \n",
    "    #plt.show()"
   ]
  },
  {
   "cell_type": "markdown",
   "metadata": {},
   "source": [
    "### 算例"
   ]
  },
  {
   "cell_type": "code",
   "execution_count": 23,
   "metadata": {},
   "outputs": [
    {
     "name": "stdout",
     "output_type": "stream",
     "text": [
      "              Field       RCL       RIL       RPA\n",
      "0     gravity-based -0.367425 -0.043653 -0.404589\n",
      "1            jacket -0.107009  0.030859 -0.076402\n",
      "2          monopile  0.161501  0.036451  0.196793\n",
      "3            tripod  0.334857 -0.316227  0.020836\n",
      "4           tripile  0.121764 -0.279028 -0.162795\n",
      "5    suction bucket  0.378693 -0.319745  0.067069\n",
      "6               tlp -0.066410 -0.084303 -0.149874\n",
      "7              spar -0.089683 -0.215294 -0.299200\n",
      "8  semi-submersible -0.580400 -0.061668 -0.619881\n",
      "              Field       RCL       RIL       RPA\n",
      "0     gravity-based -0.143885  0.141224 -0.002716\n",
      "1            jacket -0.064757  0.359045  0.301294\n",
      "2          monopile -0.041294 -0.414450 -0.448075\n",
      "3           tripile  0.373006  0.203818  0.536070\n",
      "4    suction bucket -0.229255  0.498749  0.304286\n",
      "5               tlp -0.092751  0.660951  0.605307\n",
      "6              spar  0.245138  0.628498  0.757005\n",
      "7  semi-submersible -0.120996  0.574851  0.487782\n",
      "              Field       RCL       RIL       RPA\n",
      "0     gravity-based -0.106407  0.313567  0.214310\n",
      "1            jacket -0.115859  0.087880 -0.028266\n",
      "2    suction bucket -0.049330  0.741185  0.718111\n",
      "3              spar -0.152326  0.526130  0.406372\n",
      "4  semi-submersible -0.547608  0.785741  0.417982\n",
      "              Field       RCL       RIL       RPA\n",
      "0     gravity-based -0.216872  0.177998 -0.040434\n",
      "1            jacket -0.022541 -0.594814 -0.609187\n",
      "2          monopile -0.469821 -0.382711 -0.722603\n",
      "3    suction bucket  0.211140 -0.472460 -0.290276\n",
      "4               tlp -0.202048 -0.260246 -0.439200\n",
      "5              spar -0.214887  0.413808  0.218336\n",
      "6  semi-submersible -0.495704  0.834660  0.578170\n",
      "              Field       RCL       RIL       RPA\n",
      "0     gravity-based  0.141829 -0.352811 -0.222096\n",
      "1            jacket -0.180627  0.264024  0.087573\n",
      "2          monopile -0.145635 -0.253033 -0.384498\n",
      "3            tripod -0.064757  0.660951  0.622853\n",
      "4           tripile -0.118357  0.863088  0.829462\n",
      "5    suction bucket -0.115107  0.623042  0.547176\n",
      "6  semi-submersible -0.718410  0.351414 -0.490938\n",
      "              Field       RCL       RIL       RPA\n",
      "0     gravity-based -0.108099  0.519614  0.436005\n",
      "1          monopile -0.212388  0.464857  0.280127\n",
      "2            tripod  0.360086  0.940106  0.971366\n",
      "3              spar  0.527522 -0.256650  0.313288\n",
      "4  semi-submersible -0.056991  0.549992  0.508954\n",
      "              Field       RCL       RIL       RPA\n",
      "0     gravity-based  0.012762  0.561246  0.569927\n",
      "1            jacket  0.043987  0.284803  0.324723\n",
      "2          monopile -0.142205 -0.231882 -0.362145\n",
      "3            tripod -0.061268 -0.274422 -0.330139\n",
      "4    suction bucket -0.475832 -0.332982 -0.698190\n",
      "5               tlp  0.260979  0.296928  0.517783\n",
      "6              spar  0.030583 -0.085685 -0.055246\n",
      "7  semi-submersible -0.354184  0.716470  0.485483\n",
      "              Field       RCL       RIL       RPA\n",
      "0     gravity-based -0.044199  0.879673  0.869271\n",
      "1            jacket -0.480629  0.556055  0.102937\n",
      "2    suction bucket  0.118021  0.374364  0.471551\n",
      "3               tlp -0.291914  0.565137  0.327202\n",
      "4              spar  0.361896  0.735890  0.866913\n",
      "5  semi-submersible -0.258679  0.888946  0.818477\n",
      "              Field       RCL       RIL       RPA\n",
      "0     gravity-based -0.316395 -0.060875 -0.370141\n",
      "1            jacket -0.067903 -0.020524 -0.088304\n",
      "2          monopile  0.112945 -0.006519  0.106505\n",
      "3            tripod  0.318271 -0.404716 -0.099226\n",
      "4           tripile  0.103433 -0.203261 -0.101972\n",
      "5    suction bucket  0.310116 -0.218310  0.098473\n",
      "6               tlp -0.054249 -0.184203 -0.236093\n",
      "7              spar -0.096990 -0.152294 -0.245656\n",
      "8  semi-submersible -0.387061 -0.073826 -0.448083\n",
      "              Field       RCL       RIL       RPA\n",
      "0     gravity-based  0.047901  0.119620  0.166567\n",
      "1            jacket -0.105243  0.339750  0.243203\n",
      "2          monopile -0.135336 -0.432486 -0.536424\n",
      "3           tripile  0.288617  0.182661  0.447677\n",
      "4    suction bucket -0.316954  0.482057  0.194879\n",
      "5               tlp -0.185693  0.648393  0.526036\n",
      "6              spar  0.281132  0.615017  0.764045\n",
      "7  semi-submersible  0.071116  0.559949  0.606898\n",
      "              Field       RCL       RIL       RPA\n",
      "0     gravity-based  0.221336  0.462997  0.620723\n",
      "1            jacket -0.057738  0.041563 -0.016214\n",
      "2          monopile -0.378517  0.111662 -0.278631\n",
      "3            tripod -0.313899  0.673419  0.455887\n",
      "4           tripile -0.487734  0.225256 -0.294875\n",
      "5    suction bucket -0.485219  0.059217 -0.438604\n",
      "6               tlp  0.411383  0.123196  0.508793\n",
      "7              spar -0.162482 -0.085685 -0.244759\n",
      "8  semi-submersible -0.270187  0.661229  0.476099\n"
     ]
    },
    {
     "data": {
      "text/plain": [
       "<Figure size 412.8x384 with 0 Axes>"
      ]
     },
     "metadata": {},
     "output_type": "display_data"
    }
   ],
   "source": [
    "for country in ['CN','US','KR','JP','DE','GB','EP','ES']:    \n",
    "    swoc(df[df['Year']>=2015],df[(df['Country']==country)&(df['Year']>=2015)])\n",
    "    plt.savefig('swoc/matrix_%s.pdf'%(country))\n",
    "    plt.clf()\n",
    "for region in ['East Asia','North America','Europe']:    \n",
    "    swoc(df[df['Year']>=2015],df[(df['Region']==region)&(df['Year']>=2015)])\n",
    "    plt.savefig('swoc/matrix_%s.pdf'%(region))\n",
    "    plt.clf()"
   ]
  },
  {
   "cell_type": "code",
   "execution_count": 21,
   "metadata": {},
   "outputs": [
    {
     "name": "stdout",
     "output_type": "stream",
     "text": [
      "              Field       RCL       RIL       RPA\n",
      "0     gravity-based -0.108099  0.519614  0.436005\n",
      "1          monopile -0.212388  0.464857  0.280127\n",
      "2            tripod  0.360086  0.940106  0.971366\n",
      "3              spar  0.527522 -0.256650  0.313288\n",
      "4  semi-submersible -0.056991  0.549992  0.508954\n"
     ]
    },
    {
     "data": {
      "image/png": "[encoded data removed]",
      "text/plain": [
       "<Figure size 412.8x384 with 1 Axes>"
      ]
     },
     "metadata": {
      "needs_background": "light"
     },
     "output_type": "display_data"
    }
   ],
   "source": [
    "swoc(df[df['Year']>=2015],df[(df['Country']=='GB')&(df['Year']>=2015)])"
   ]
  },
  {
   "cell_type": "markdown",
   "metadata": {},
   "source": [
    "### 统计"
   ]
  },
  {
   "cell_type": "code",
   "execution_count": 225,
   "metadata": {},
   "outputs": [
    {
     "name": "stdout",
     "output_type": "stream",
     "text": [
      "133 117 0.8796992481203008\n"
     ]
    }
   ],
   "source": [
    "a = df[(df['Region']=='North America')&(df['Year']>=2015)].shape[0]\n",
    "b = df[(df['Country']=='US')&(df['Year']>=2015)].shape[0]\n",
    "print(a,b,b/a)"
   ]
  },
  {
   "cell_type": "code",
   "execution_count": 226,
   "metadata": {},
   "outputs": [
    {
     "name": "stdout",
     "output_type": "stream",
     "text": [
      "950 827 0.8705263157894737\n"
     ]
    }
   ],
   "source": [
    "a = df[(df['Region']=='East Asia')&(df['Year']>=2015)].shape[0]\n",
    "b = df[(df['Country']=='CN')&(df['Year']>=2015)].shape[0]\n",
    "print(a,b,b/a)"
   ]
  },
  {
   "cell_type": "code",
   "execution_count": 227,
   "metadata": {},
   "outputs": [
    {
     "name": "stdout",
     "output_type": "stream",
     "text": [
      "280 91 0.325\n"
     ]
    }
   ],
   "source": [
    "a = df[(df['Region']=='Europe')&(df['Year']>=2015)].shape[0]\n",
    "b = df[(df['Country']=='EP')&(df['Year']>=2015)].shape[0]\n",
    "print(a,b,b/a)"
   ]
  }
 ],
 "metadata": {
  "kernelspec": {
   "display_name": "Python 3.7.6 64-bit ('base': conda)",
   "language": "python",
   "name": "python37664bitbaseconda92b0e0134287400d862a3924e4f94f14"
  },
  "language_info": {
   "codemirror_mode": {
    "name": "ipython",
    "version": 3
   },
   "file_extension": ".py",
   "mimetype": "text/x-python",
   "name": "python",
   "nbconvert_exporter": "python",
   "pygments_lexer": "ipython3",
   "version": "3.7.6"
  }
 },
 "nbformat": 4,
 "nbformat_minor": 4
}
