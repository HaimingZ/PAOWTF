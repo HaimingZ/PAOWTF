{
 "cells": [
  {
   "cell_type": "markdown",
   "metadata": {},
   "source": [
    "# Statistc on Assignees"
   ]
  },
  {
   "cell_type": "code",
   "execution_count": 2,
   "metadata": {},
   "outputs": [
    {
     "data": {
      "text/plain": [
       "Index(['Title', 'Publication Number', 'Status', 'Country', 'File Year',\n",
       "       'Grant Year', 'Priority Year', 'Publication Year', 'Expiration Year',\n",
       "       'Ultimate Parent', 'Normalized Assignee', 'origin', 'fixed', 'floating',\n",
       "       'gravity-based', 'jacket', 'monopile', 'tripod', 'tripile',\n",
       "       'suction bucket', 'tlp', 'spar', 'semi-submersible', 'Region'],\n",
       "      dtype='object')"
      ]
     },
     "execution_count": 2,
     "metadata": {},
     "output_type": "execute_result"
    }
   ],
   "source": [
    "import pandas as pd\n",
    "import numpy as np\n",
    "df = pd.read_csv('data/data_processed.csv')\n",
    "df.columns"
   ]
  },
  {
   "cell_type": "markdown",
   "metadata": {},
   "source": [
    "## Ultimate Parent"
   ]
  },
  {
   "cell_type": "code",
   "execution_count": 26,
   "metadata": {},
   "outputs": [
    {
     "data": {
      "text/plain": [
       "Enercon Gmbh                                          259\n",
       "Siemens Ag                                            231\n",
       "General Electric Company                              185\n",
       "Mhi Vestas Offshore Wind As                           178\n",
       "Mitsubishi Heavy Industries, Ltd.                     172\n",
       "Vestas Wind Systems A/s                               142\n",
       "Senvion Se                                            104\n",
       "Dalian University Of Technology                       103\n",
       "Hitachi, Ltd.                                         103\n",
       "Aerodyn Eng Gmbh                                      101\n",
       "Tianjin University                                     98\n",
       "Samsung Heavy Industries Co.,ltd                       93\n",
       "University Of Maine                                    88\n",
       "Hywind As                                              84\n",
       "Principle Power, Inc.                                  73\n",
       "Dcns Sa                                                70\n",
       "Powerchina Huadong Engineering Corporation Limited     66\n",
       "Shanghai Jiaotong University                           62\n",
       "Ifp Energies Nouvelles                                 59\n",
       "Sway As, Norway                                        56\n",
       "Name: Ultimate Parent, dtype: int64"
      ]
     },
     "execution_count": 26,
     "metadata": {},
     "output_type": "execute_result"
    }
   ],
   "source": [
    "df['Ultimate Parent'].value_counts().head(20)"
   ]
  },
  {
   "cell_type": "code",
   "execution_count": 91,
   "metadata": {},
   "outputs": [
    {
     "name": "stdout",
     "output_type": "stream",
     "text": [
      "Enercon Gmbh:14\n",
      "Siemens Ag:58\n",
      "General Electric Company:38\n",
      "Mhi Vestas Offshore Wind As:19\n",
      "Mitsubishi Heavy Industries, Ltd.:34\n",
      "Vestas Wind Systems A/s:30\n",
      "Senvion Se:17\n",
      "Hitachi, Ltd.:21\n",
      "Aerodyn Eng Gmbh:9\n",
      "Dalian University Of Technology:79\n",
      "Tianjin University:65\n",
      "Samsung Heavy Industries Co.,ltd:51\n",
      "University Of Maine:8\n",
      "Hywind As:3\n",
      "Principle Power, Inc.:3\n",
      "Dcns Sa:18\n",
      "Powerchina Huadong Engineering Corporation Limited:57\n",
      "Shanghai Jiaotong University:42\n",
      "Ifp Energies Nouvelles:9\n",
      "Sway As, Norway:5\n"
     ]
    }
   ],
   "source": [
    "top_owners = df['Ultimate Parent'].value_counts().head(20).index\n",
    "for _ in top_owners:    \n",
    "    r = df[(df['origin']==True)&(df['Ultimate Parent']==_)].shape[0]\n",
    "    print(_+':'+str(r))"
   ]
  },
  {
   "cell_type": "code",
   "execution_count": 27,
   "metadata": {},
   "outputs": [
    {
     "data": {
      "text/plain": [
       "Dalian University Of Technology                                                          83\n",
       "Tianjin University                                                                       65\n",
       "Siemens Ag                                                                               58\n",
       "Powerchina Huadong Engineering Corporation Limited                                       58\n",
       "Samsung Heavy Industries Co.,ltd                                                         51\n",
       "Zhejiang Ocean University                                                                43\n",
       "Shanghai Jiaotong University                                                             42\n",
       "State Grid Corporation Of China                                                          41\n",
       "Hohai Univ.                                                                              41\n",
       "Jiangsu Longyuan Off-shore Wind Power Generation Co., Ltd.                               40\n",
       "Guangdong Electric Power Design Institute Of China Energy Engineering Group Co., Ltd.    38\n",
       "General Electric Company                                                                 38\n",
       "Mitsubishi Heavy Industries, Ltd.                                                        34\n",
       "Guangdong Mingyang Wind Electrical Technology Co., Ltd.                                  33\n",
       "Vestas Wind Systems A/s                                                                  30\n",
       "Jiangsu University                                                                       28\n",
       "Zhejiang University                                                                      27\n",
       "Guodian United Power Technology Co., Ltd.                                                26\n",
       "Shanghai Investigation, Design And Research Inst.                                        24\n",
       "Guangdong Electric Power Design And Res Inst                                             24\n",
       "Name: Ultimate Parent, dtype: int64"
      ]
     },
     "execution_count": 27,
     "metadata": {},
     "output_type": "execute_result"
    }
   ],
   "source": [
    "df[(df['origin']==True)]['Ultimate Parent'].value_counts().head(20)"
   ]
  },
  {
   "cell_type": "code",
   "execution_count": 2,
   "metadata": {},
   "outputs": [
    {
     "name": "stdout",
     "output_type": "stream",
     "text": [
      "Dalian University Of Technology:103\n",
      "Tianjin University:98\n",
      "Powerchina Huadong Engineering Corporation Limited:66\n",
      "Siemens Ag:231\n",
      "Samsung Heavy Industries Co.,ltd:93\n",
      "Zhejiang Ocean University:51\n",
      "Shanghai Jiaotong University:62\n",
      "Hohai Univ.:56\n",
      "State Grid Corporation Of China:56\n",
      "Jiangsu Longyuan Off-shore Wind Power Generation Co., Ltd.:42\n",
      "Guangdong Electric Power Design Institute Of China Energy Engineering Group Co., Ltd.:43\n",
      "General Electric Company:185\n",
      "Mitsubishi Heavy Industries, Ltd.:172\n",
      "Guangdong Mingyang Wind Electrical Technology Co., Ltd.:41\n",
      "Vestas Wind Systems A/s:142\n",
      "Jiangsu University:37\n",
      "Zhejiang University:37\n",
      "Guodian United Power Technology Co., Ltd.:30\n",
      "Shanghai Investigation, Design And Research Inst.:27\n",
      "Guangdong Electric Power Design And Res Inst:37\n",
      "Daewoo Shipbuilding & Marine Engineering:35\n",
      "Ocean University Of China:32\n",
      "Guangdong Mingyang Wind Power Industry Group Coltd:28\n",
      "Chongqing University:26\n",
      "Hitachi, Ltd.:103\n",
      "Chinese Academy Of Sciences:28\n",
      "Fujian Xinneng Offshore Wind Power R And D Center Co., Ltd.:27\n",
      "Mhi Vestas Offshore Wind As:178\n",
      "Cccc First Harbor Engineering Company Ltd.:20\n",
      "Hyundai Heavy Industries Co., Ltd.:28\n"
     ]
    }
   ],
   "source": [
    "top_owners = df[df['origin']==True]['Ultimate Parent'].value_counts().head(20).index\n",
    "\n",
    "for _ in top_owners:\n",
    "    r = df[df['Ultimate Parent']==_].shape[0]\n",
    "    print(_+':'+str(r))\n"
   ]
  },
  {
   "cell_type": "markdown",
   "metadata": {},
   "source": [
    "## Normalized Assignee"
   ]
  },
  {
   "cell_type": "code",
   "execution_count": 3,
   "metadata": {},
   "outputs": [
    {
     "data": {
      "text/plain": [
       "Wobben Aloys                                          181\n",
       "Mhi Vestas Offshore Wind As                           178\n",
       "Mitsubishi Heavy Industries, Ltd.                     129\n",
       "Siemens Aktiengesellschaft                            126\n",
       "General Electric Company                              108\n",
       "Tianjin University                                     98\n",
       "Dalian University Of Technology                        98\n",
       "University Of Maine System Board Of Trustees           87\n",
       "Vestas Wind Systems As                                 80\n",
       "Hywind As                                              78\n",
       "Wobben Properties Gmbh                                 77\n",
       "Principle Power, Inc.                                  73\n",
       "Aerodyn Engineering Gmbh                               67\n",
       "Powerchina Huadong Engineering Corporation Limited     66\n",
       "Senvion Gmbh                                           62\n",
       "Samsung Heavy Industries Co.,ltd                       57\n",
       "Ifp Energies Nouvelles                                 57\n",
       "Hitachi, Ltd.                                          56\n",
       "Shanghai Jiao Tong University                          56\n",
       "Sway As                                                56\n",
       "Name: Normalized Assignee, dtype: int64"
      ]
     },
     "execution_count": 3,
     "metadata": {},
     "output_type": "execute_result"
    }
   ],
   "source": [
    "df['Normalized Assignee'].value_counts().head(20)"
   ]
  },
  {
   "cell_type": "code",
   "execution_count": 4,
   "metadata": {},
   "outputs": [
    {
     "name": "stdout",
     "output_type": "stream",
     "text": [
      "Wobben Aloys:14\n",
      "Mhi Vestas Offshore Wind As:19\n",
      "Mitsubishi Heavy Industries, Ltd.:12\n",
      "Siemens Aktiengesellschaft:38\n",
      "General Electric Company:24\n",
      "Tianjin University:65\n",
      "Dalian University Of Technology:79\n",
      "University Of Maine System Board Of Trustees:8\n",
      "Vestas Wind Systems As:23\n",
      "Hywind As:3\n",
      "Wobben Properties Gmbh:0\n",
      "Principle Power, Inc.:3\n",
      "Aerodyn Engineering Gmbh:3\n",
      "Powerchina Huadong Engineering Corporation Limited:58\n",
      "Senvion Gmbh:11\n",
      "Samsung Heavy Industries Co.,ltd:31\n",
      "Ifp Energies Nouvelles:9\n",
      "Hitachi, Ltd.:12\n",
      "Shanghai Jiao Tong University:38\n",
      "Sway As:5\n"
     ]
    }
   ],
   "source": [
    "top_owners = df['Normalized Assignee'].value_counts().head(20).index\n",
    "for _ in top_owners:    \n",
    "    r = df[(df['origin']==True)&(df['Normalized Assignee']==_)].shape[0]\n",
    "    print(_+':'+str(r))"
   ]
  },
  {
   "cell_type": "code",
   "execution_count": 10,
   "metadata": {},
   "outputs": [
    {
     "data": {
      "text/plain": [
       "20"
      ]
     },
     "execution_count": 10,
     "metadata": {},
     "output_type": "execute_result"
    }
   ],
   "source": [
    "fields = ['gravity-based', 'jacket', 'monopile', 'tripod',\n",
    "          'tripile', 'suction bucket', 'tlp', 'spar', 'semi-submersible']\n",
    "\n",
    "\n",
    "i = 0\n",
    "j = 5\n",
    "df[(df[fields[i]] == True) & (df[fields[j]] == True)].shape[0]"
   ]
  }
 ],
 "metadata": {
  "interpreter": {
   "hash": "9a8fb4c5b1406801fabbc958a055bc64cefd03c64bb6cad659667ec69c4f9899"
  },
  "kernelspec": {
   "display_name": "Python 3.7.6 64-bit ('base': conda)",
   "name": "python3"
  },
  "language_info": {
   "codemirror_mode": {
    "name": "ipython",
    "version": 3
   },
   "file_extension": ".py",
   "mimetype": "text/x-python",
   "name": "python",
   "nbconvert_exporter": "python",
   "pygments_lexer": "ipython3",
   "version": "3.7.6"
  }
 },
 "nbformat": 4,
 "nbformat_minor": 4
}